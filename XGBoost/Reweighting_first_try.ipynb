{
  "nbformat": 4,
  "nbformat_minor": 0,
  "metadata": {
    "colab": {
      "provenance": [],
      "toc_visible": true
    },
    "kernelspec": {
      "name": "python3",
      "display_name": "Python 3"
    },
    "language_info": {
      "name": "python"
    }
  },
  "cells": [
    {
      "cell_type": "code",
      "metadata": {
        "id": "_ZfFh3op9JHr"
      },
      "source": [
        "import xgboost as xgb\n",
        "import numpy as np\n",
        "import pandas as pd\n",
        "import matplotlib.pyplot as plt\n",
        "from matplotlib import pyplot"
      ],
      "execution_count": null,
      "outputs": []
    },
    {
      "cell_type": "code",
      "metadata": {
        "id": "2GkP6HBn9KyQ"
      },
      "source": [
        "import scipy\n",
        "from sklearn.model_selection import train_test_split\n",
        "from sklearn.metrics import roc_curve\n",
        "from sklearn.metrics import roc_auc_score\n",
        "from scipy.stats import ks_2samp"
      ],
      "execution_count": null,
      "outputs": []
    },
    {
      "cell_type": "code",
      "metadata": {
        "id": "1V5WvN1ptYqN"
      },
      "source": [
        "from google.colab import drive\n",
        "drive.mount('/content/drive')"
      ],
      "execution_count": null,
      "outputs": []
    },
    {
      "cell_type": "markdown",
      "metadata": {
        "id": "5jI3BmK-vuYW"
      },
      "source": [
        "# Funciones"
      ]
    },
    {
      "cell_type": "code",
      "metadata": {
        "id": "pbENpn0D9NFH"
      },
      "source": [
        "from sklearn.model_selection import cross_validate\n",
        "from sklearn.model_selection import train_test_split\n",
        "from sklearn.metrics import accuracy_score\n",
        "from sklearn.metrics import roc_curve\n",
        "from sklearn.metrics import roc_auc_score\n",
        "from sklearn.model_selection import GridSearchCV\n",
        "from xgboost.sklearn import XGBClassifier\n",
        "\n",
        "def tune_params(train_X, train_Y, test_X, test_Y):\n",
        "\n",
        "    b_par={} #A void dictionary which will contain the best params in each iteration\n",
        "\n",
        "    #TUNING TREES\n",
        "    #INTIAL MODEL\n",
        "    model=xgb.XGBClassifier(objective='binary:logistic',\n",
        "                        learning_rate=0.2,\n",
        "                        max_depth=7,\n",
        "                        min_child_weight=5,\n",
        "                        reg_lambda=1010,\n",
        "                        n_estimators=150)\n",
        "\n",
        "    #NUMBER OF TREES\n",
        "    eval_set = [(train_X, train_Y), (test_X, test_Y)]\n",
        "    eval_metric = [\"auc\",\"error\"]\n",
        "    %time model.fit(train_X, train_Y, eval_metric=eval_metric, eval_set=eval_set, verbose=True)\n",
        "\n",
        "    # Evaluation results\n",
        "    evaluation_results = model.evals_result_\n",
        "    auc_train = evaluation_results[\"validation_0\"][\"auc\"] # Train ‘auc’ metric\n",
        "    auc_test = evaluation_results[\"validation_1\"][\"auc\"] # Test ‘auc’ metric\n",
        "\n",
        "\n",
        "    # Plotting ‘XGBOOST Classification Error’ and ‘XGBOOST Classification AUC’\n",
        "    plt.figure(figsize=(7,7))\n",
        "    plt.plot(auc_train)\n",
        "    plt.plot(auc_test)\n",
        "    plt.xlabel('Number of trees (n_estimators)')\n",
        "    plt.ylabel('auc')\n",
        "    plt.legend(['Train', 'Test'])\n",
        "    plt.title('XGBoost Classification AUC')\n",
        "    plt.show()\n",
        "\n",
        "    param_test1 = {\n",
        "             'n_estimators':[100,150,200,250]\n",
        "            }\n",
        "\n",
        "    gsearch1 = GridSearchCV(estimator = XGBClassifier( objective= 'binary:logistic',\n",
        "                                                              learning_rate=0.2,\n",
        "                                                              max_depth=6,\n",
        "                                                              min_child_weight=2,\n",
        "                                                              reg_lambda=1010),\n",
        "\n",
        "                                     param_grid = param_test1, scoring='roc_auc',n_jobs=4, cv=5)\n",
        "\n",
        "    gsearch1.fit(train_X,train_Y)\n",
        "\n",
        "    b_par['n_estimators']=gsearch1.best_params_['n_estimators']\n",
        "\n",
        "    #DEPTH AND WEIGHT TUNING\n",
        "    v1=0\n",
        "\n",
        "    param_test2 = {\n",
        "             'max_depth':[5,6,7],\n",
        "             'min_child_weight':[4,5,6]\n",
        "            }\n",
        "\n",
        "    gsearch2 = GridSearchCV(estimator = XGBClassifier( objective= 'binary:logistic',\n",
        "                                                              learning_rate=0.2,\n",
        "                                                              n_estimators=b_par['n_estimators'],\n",
        "                                                              max_depth=6,\n",
        "                                                              min_child_weight=2,\n",
        "                                                              reg_lambda=1010),\n",
        "\n",
        "                                     param_grid = param_test2, scoring='roc_auc',n_jobs=4, cv=5)\n",
        "\n",
        "    gsearch2.fit(train_X,train_Y)\n",
        "    v1+=1\n",
        "\n",
        "    while gsearch2.best_score_ < gsearch1.best_score_ and v1!=2:\n",
        "\n",
        "        param_test2 = {\n",
        "             'max_depth':[5,6,7],\n",
        "             'min_child_weight':[4,5,6]\n",
        "            }\n",
        "\n",
        "        gsearch2 = GridSearchCV(estimator = XGBClassifier( objective= 'binary:logistic',\n",
        "                                                              learning_rate=0.2,\n",
        "                                                              n_estimators=b_par['n_estimators'] ,\n",
        "                                                              max_depth=6,\n",
        "                                                              min_child_weight=2,\n",
        "                                                              reg_lambda=1010),\n",
        "\n",
        "                                     param_grid = param_test2, scoring='roc_auc',n_jobs=4, cv=5)\n",
        "\n",
        "        gsearch2.fit(train_X,train_Y)\n",
        "        v1+=1\n",
        "\n",
        "    if gsearch2.best_score_ < gsearch1.best_score_:\n",
        "        b_par['max_depth']=6\n",
        "        b_par['min_child_weight']=1\n",
        "        gsearch2.best_score_ = gsearch1.best_score_\n",
        "        print(b_par)\n",
        "    else:\n",
        "        b_par['max_depth']= gsearch2.best_params_['max_depth']\n",
        "        b_par['min_child_weight']= gsearch2.best_params_['min_child_weight']\n",
        "\n",
        "    #GAMMA TUNING\n",
        "    v2=0\n",
        "\n",
        "    param_test3 = {\n",
        "         'gamma':[0.15, 0.1, 0.05, 0]\n",
        "        }\n",
        "\n",
        "    gsearch3 = GridSearchCV(estimator=xgb.XGBClassifier(objective=\"binary:logistic\",\n",
        "                                                            learning_rate=0.2,\n",
        "                                                            max_depth=b_par['max_depth'],\n",
        "                                                            min_child_weight=b_par['min_child_weight'],\n",
        "                                                            n_estimators=b_par['n_estimators'],\n",
        "                                                            reg_lambda=1000\n",
        "                                                           ),\n",
        "                                param_grid=param_test3,\n",
        "                                scoring='roc_auc', verbose=0, n_jobs=10, cv=5)\n",
        "\n",
        "    gsearch3.fit(train_X,train_Y)\n",
        "    v2+=1\n",
        "\n",
        "    while gsearch3.best_score_ < gsearch2.best_score_ and v2!=2:\n",
        "        param_test3 = {\n",
        "         'gamma':[0.15, 0.1, 0.05, 0]\n",
        "        }\n",
        "\n",
        "        gsearch3 = GridSearchCV(estimator=xgb.XGBClassifier(objective=\"binary:logistic\",\n",
        "                                                            learning_rate=0.2,\n",
        "                                                            max_depth=b_par['max_depth'],\n",
        "                                                            min_child_weight=b_par['min_child_weight'],\n",
        "                                                            n_estimators=b_par['n_estimators'],\n",
        "                                                            reg_lambda=1000\n",
        "                                                           ),\n",
        "                                param_grid=param_test3,\n",
        "                                scoring='roc_auc', verbose=0, n_jobs=10, cv=5)\n",
        "\n",
        "        gsearch3.fit(train_X,train_Y)\n",
        "        v2+=1\n",
        "\n",
        "    if gsearch3.best_score_ < gsearch2.best_score_:\n",
        "        b_par['gamma']=0\n",
        "        gsearch3.best_score_ = gsearch2.best_score_\n",
        "    else:\n",
        "        b_par['gamma'] = gsearch3.best_params_['gamma']\n",
        "\n",
        "    #SAMPLES TUNING\n",
        "    v3=0\n",
        "\n",
        "    param_test4 = {\n",
        "         'subsample':[0.825, 0.85, 0.875, 0.9],\n",
        "         'colsample_bytree':[0.85, 0.875, 0.9]\n",
        "        }\n",
        "\n",
        "\n",
        "    gsearch4 = GridSearchCV(estimator=xgb.XGBClassifier(objective=\"binary:logistic\",\n",
        "                                                            learning_rate=0.2,\n",
        "                                                            n_estimators=b_par['n_estimators'],\n",
        "                                                            reg_lambda=1000,\n",
        "                                                            max_depth=b_par['max_depth'],\n",
        "                                                            min_child_weight=b_par['min_child_weight'],\n",
        "                                                            gamma=b_par['gamma']\n",
        "                                                           ),\n",
        "                                param_grid=param_test4,\n",
        "                                scoring='roc_auc', verbose=0, n_jobs=10, cv=5)\n",
        "\n",
        "    gsearch4.fit(train_X,train_Y)\n",
        "    v3+=1\n",
        "\n",
        "    while gsearch4.best_score_ < gsearch3.best_score_ and v3!=2:\n",
        "        param_test4 = {\n",
        "         'subsample':[0.825, 0.85, 0.875, 0.9],\n",
        "         'colsample_bytree':[0.85, 0.875, 0.9]\n",
        "        }\n",
        "\n",
        "\n",
        "        gsearch4 = GridSearchCV(estimator=xgb.XGBClassifier(objective=\"binary:logistic\",\n",
        "                                                            learning_rate=0.2,\n",
        "                                                            n_estimators=b_par['n_estimators'],\n",
        "                                                            reg_lambda=1000,\n",
        "                                                            max_depth=b_par['max_depth'],\n",
        "                                                            min_child_weight=b_par['min_child_weight'],\n",
        "                                                            gamma=b_par['gamma']\n",
        "                                                           ),\n",
        "                                param_grid=param_test4,\n",
        "                                scoring='roc_auc', verbose=0, n_jobs=10, cv=5)\n",
        "\n",
        "        gsearch4.fit(train_X,train_Y)\n",
        "        v3+=1\n",
        "\n",
        "    if gsearch4.best_score_ < gsearch3.best_score_:\n",
        "        b_par['subsample']=1\n",
        "        b_par['colsample_bytree']=1\n",
        "        gsearch4.best_score=gsearch3.best_score_\n",
        "    else:\n",
        "        b_par['subsample'] = gsearch4.best_params_['subsample']\n",
        "        b_par['colsample_bytree'] = gsearch4.best_params_['colsample_bytree']\n",
        "\n",
        "    #REGULARIZATION TUNING\n",
        "    v4=0\n",
        "\n",
        "    param_test6 = {\n",
        "         'reg_alpha':[1e-5, 1e-2, 0.1, 1, 100],\n",
        "         'reg_lambda':[200, 300, 400, 500, 600]\n",
        "        }\n",
        "\n",
        "    gsearch5 = GridSearchCV(estimator=xgb.XGBClassifier(objective=\"binary:logistic\",\n",
        "                                                            learning_rate=0.2,\n",
        "                                                            n_estimators=b_par['n_estimators'],\n",
        "                                                            reg_lambda=1000,\n",
        "                                                            max_depth=b_par['max_depth'],\n",
        "                                                            min_child_weight=b_par['min_child_weight'],\n",
        "                                                            gamma=b_par['gamma'],\n",
        "                                                            subsample=b_par['subsample'],\n",
        "                                                            colsample_bytree=b_par['colsample_bytree']\n",
        "                                                           ),\n",
        "                                param_grid=param_test6,\n",
        "                                scoring='roc_auc', verbose=0, n_jobs=10, cv=5)\n",
        "\n",
        "    gsearch5.fit(train_x,train_y)\n",
        "    v4+=1\n",
        "\n",
        "    while gsearch5.best_score_ < gsearch4.best_score_ and v4!=2:\n",
        "        param_test6 = {\n",
        "         'reg_alpha' :[1e-5, 1e-2, 0.1, 1, 100],\n",
        "         'reg_lambda':[200, 300, 400, 500, 600]\n",
        "        }\n",
        "\n",
        "        gsearch5 = GridSearchCV(estimator=xgb.XGBClassifier(objective=\"binary:logistic\",\n",
        "                                                            learning_rate=0.2,\n",
        "                                                            n_estimators=b_par['n_estimators'],\n",
        "                                                            reg_lambda=1000,\n",
        "                                                            max_depth=b_par['max_depth'],\n",
        "                                                            min_child_weight=b_par['min_child_weight'],\n",
        "                                                            gamma=b_par['gamma'],\n",
        "                                                            subsample=b_par['subsample'],\n",
        "                                                            colsample_bytree=b_par['colsample_bytree']\n",
        "                                                           ),\n",
        "                                param_grid=param_test6,\n",
        "                                scoring='roc_auc', verbose=0, n_jobs=10, cv=5)\n",
        "\n",
        "        gsearch5.fit(train_x,train_y)\n",
        "\n",
        "    if gsearch5.best_score_ < gsearch4.best_score_:\n",
        "        b_par['reg_alpha']=0\n",
        "        b_par['reg_lambda']=1\n",
        "        gsearch5.best_score_=gsearch4.best_score_\n",
        "    else:\n",
        "        b_par['reg_alpha'] = gsearch5.best_params_['reg_alpha']\n",
        "        b_par['reg_lambda']= gsearch5.best_params_['reg_lambda']\n",
        "\n",
        "    #STUFF\n",
        "    model = xgb.XGBClassifier(objective=\"binary:logistic\",\n",
        "                                learning_rate=0.2,\n",
        "                                n_estimators=b_par['n_estimators'],\n",
        "                                reg_lambda=b_par['reg_lambda'],\n",
        "                                reg_alpha=b_par['reg_alpha'],\n",
        "                                max_depth=b_par['max_depth'],\n",
        "                                min_child_weight=b_par['min_child_weight'],\n",
        "                                gamma=b_par['gamma'],\n",
        "                                subsample=b_par['subsample'],\n",
        "                                colsample_bytree=b_par['colsample_bytree'])\n",
        "    model.fit(train_X, train_Y)\n",
        "\n",
        "    #ROC CURVE\n",
        "    plt.figure(figsize=(10,7))\n",
        "    plt.title('ROC curve', fontsize=13)\n",
        "    model_predict = model.predict_proba(test_X)\n",
        "    model_predict = model_predict[:,1]\n",
        "    auc_score_test = roc_auc_score(test_Y, model_predict)\n",
        "    fpr, tpr, _ = roc_curve(test_Y, model_predict) #roc_curve(true binary labels, prediction scores)\n",
        "    print('Test : ', auc_score_test)\n",
        "    plt.plot(tpr, 1-fpr, label='Test   '+ str(round(auc_score_test, 4)), color='purple')\n",
        "\n",
        "    model_predict = model.predict_proba(train_X)\n",
        "    model_predict = model_predict[:,1]\n",
        "    auc_score_train = roc_auc_score(train_Y, model_predict)\n",
        "    fpr, tpr, _ = roc_curve(train_Y, model_predict)\n",
        "    plt.plot(tpr, 1-fpr, label='Train   ' + str(round(auc_score_train, 4)) , color='orange', linewidth=3)\n",
        "    print('Train : ', auc_score_train)\n",
        "    plt.legend(fontsize=13)\n",
        "    plt.ylabel('background rejection', fontsize=13)\n",
        "    plt.xlabel('Signal efficiency', fontsize=13)\n",
        "    plt.show()\n",
        "\n",
        "    return b_par"
      ],
      "execution_count": null,
      "outputs": []
    },
    {
      "cell_type": "markdown",
      "metadata": {
        "id": "Ptb1J5HqvRK8"
      },
      "source": [
        "# Sección nueva"
      ]
    },
    {
      "cell_type": "code",
      "metadata": {
        "id": "Gxp1o54A9WfR"
      },
      "source": [
        "def roc(test_x,test_y,train_x,train_y):\n",
        "    \"\"\"\"\n",
        "    Presenta la curva roc, que muestra la precisión del clasificador, entre mas\n",
        "    cercana sea el area 1 mejor será el clasificador \"\"\"\n",
        "    plt.figure(figsize=(10,7))\n",
        "    plt.title('ROC curve', fontsize=20)\n",
        "    model_predict = model.predict_proba(test_x)\n",
        "    model_predict = model_predict[:,1]\n",
        "    auc_score = roc_auc_score(test_y, model_predict)\n",
        "    fpr, tpr, _ = roc_curve(test_y, model_predict) #roc_curve(true binary labels, prediction scores)\n",
        "    print('Test : ', auc_score)\n",
        "    plt.plot(tpr, 1-fpr, label='Test   '+ str(round(auc_score, 4)), color='purple', linewidth=3)\n",
        "\n",
        "    model_predict = model.predict_proba(train_x)\n",
        "    model_predict = model_predict[:,1]\n",
        "    auc_score = roc_auc_score(train_y, model_predict)\n",
        "    fpr, tpr, _ = roc_curve(train_y, model_predict)\n",
        "    plt.plot(tpr, 1-fpr, label='Train   ' + str(round(auc_score,4)) , color='orange', linewidth=3)\n",
        "    print('Train : ', auc_score)\n",
        "    plt.legend(loc='best',fontsize=20)\n",
        "    plt.ylabel('Background Rejection', fontsize=20)\n",
        "    plt.xlabel('Signal efficiency', fontsize=20)\n",
        "    #plt.yscale('log')\n",
        "    #plt.xscale('log')\n",
        "    #plt.ylim(0.7,1)\n",
        "    plt.show()"
      ],
      "execution_count": null,
      "outputs": []
    },
    {
      "cell_type": "code",
      "metadata": {
        "colab": {
          "base_uri": "https://localhost:8080/",
          "height": 224
        },
        "id": "Eu6a7wdX9Z9N",
        "outputId": "b23ec5c4-6b23-40c7-fb49-1bb5733b1233"
      },
      "source": [
        "RD = pd.read_pickle('Signal_5.pkl')\n",
        "MC = pd.read_pickle('Right_5.pkl')\n",
        "\n",
        "MC.head()"
      ],
      "execution_count": null,
      "outputs": [
        {
          "output_type": "execute_result",
          "data": {
            "text/html": [
              "<div>\n",
              "<style scoped>\n",
              "    .dataframe tbody tr th:only-of-type {\n",
              "        vertical-align: middle;\n",
              "    }\n",
              "\n",
              "    .dataframe tbody tr th {\n",
              "        vertical-align: top;\n",
              "    }\n",
              "\n",
              "    .dataframe thead th {\n",
              "        text-align: right;\n",
              "    }\n",
              "</style>\n",
              "<table border=\"1\" class=\"dataframe\">\n",
              "  <thead>\n",
              "    <tr style=\"text-align: right;\">\n",
              "      <th></th>\n",
              "      <th>run</th>\n",
              "      <th>event</th>\n",
              "      <th>luminosityBlock</th>\n",
              "      <th>Bpt</th>\n",
              "      <th>kpt</th>\n",
              "      <th>PDL</th>\n",
              "      <th>prob</th>\n",
              "      <th>cosA</th>\n",
              "      <th>signLxy</th>\n",
              "      <th>BMass</th>\n",
              "      <th>cosThetaKMu</th>\n",
              "      <th>DiMuMass</th>\n",
              "    </tr>\n",
              "  </thead>\n",
              "  <tbody>\n",
              "    <tr>\n",
              "      <th>846557</th>\n",
              "      <td>316569</td>\n",
              "      <td>2419032308</td>\n",
              "      <td>1750</td>\n",
              "      <td>3.197039</td>\n",
              "      <td>0.754576</td>\n",
              "      <td>0.027220</td>\n",
              "      <td>0.015701</td>\n",
              "      <td>0.980964</td>\n",
              "      <td>3.319806</td>\n",
              "      <td>5.549367</td>\n",
              "      <td>0.387938</td>\n",
              "      <td>0.652236</td>\n",
              "    </tr>\n",
              "    <tr>\n",
              "      <th>602916</th>\n",
              "      <td>319349</td>\n",
              "      <td>121163061</td>\n",
              "      <td>86</td>\n",
              "      <td>5.740430</td>\n",
              "      <td>4.778899</td>\n",
              "      <td>0.014964</td>\n",
              "      <td>0.166422</td>\n",
              "      <td>0.667695</td>\n",
              "      <td>4.977643</td>\n",
              "      <td>5.540707</td>\n",
              "      <td>0.541980</td>\n",
              "      <td>2.200779</td>\n",
              "    </tr>\n",
              "    <tr>\n",
              "      <th>693903</th>\n",
              "      <td>320006</td>\n",
              "      <td>24668633</td>\n",
              "      <td>17</td>\n",
              "      <td>21.223192</td>\n",
              "      <td>1.811541</td>\n",
              "      <td>0.005489</td>\n",
              "      <td>0.018952</td>\n",
              "      <td>0.951301</td>\n",
              "      <td>3.242698</td>\n",
              "      <td>5.663490</td>\n",
              "      <td>0.658956</td>\n",
              "      <td>4.765600</td>\n",
              "    </tr>\n",
              "    <tr>\n",
              "      <th>1397520</th>\n",
              "      <td>317650</td>\n",
              "      <td>1509589239</td>\n",
              "      <td>1008</td>\n",
              "      <td>19.846544</td>\n",
              "      <td>0.576531</td>\n",
              "      <td>0.009391</td>\n",
              "      <td>0.256810</td>\n",
              "      <td>0.999062</td>\n",
              "      <td>1.835706</td>\n",
              "      <td>5.684946</td>\n",
              "      <td>-0.019215</td>\n",
              "      <td>1.011200</td>\n",
              "    </tr>\n",
              "    <tr>\n",
              "      <th>500805</th>\n",
              "      <td>317320</td>\n",
              "      <td>2433775391</td>\n",
              "      <td>1620</td>\n",
              "      <td>10.660144</td>\n",
              "      <td>1.885670</td>\n",
              "      <td>0.007417</td>\n",
              "      <td>0.386343</td>\n",
              "      <td>0.984047</td>\n",
              "      <td>1.486022</td>\n",
              "      <td>5.409599</td>\n",
              "      <td>0.946179</td>\n",
              "      <td>2.098343</td>\n",
              "    </tr>\n",
              "  </tbody>\n",
              "</table>\n",
              "</div>"
            ],
            "text/plain": [
              "            run       event  luminosityBlock  ...     BMass  cosThetaKMu  DiMuMass\n",
              "846557   316569  2419032308             1750  ...  5.549367     0.387938  0.652236\n",
              "602916   319349   121163061               86  ...  5.540707     0.541980  2.200779\n",
              "693903   320006    24668633               17  ...  5.663490     0.658956  4.765600\n",
              "1397520  317650  1509589239             1008  ...  5.684946    -0.019215  1.011200\n",
              "500805   317320  2433775391             1620  ...  5.409599     0.946179  2.098343\n",
              "\n",
              "[5 rows x 12 columns]"
            ]
          },
          "metadata": {
            "tags": []
          },
          "execution_count": 5
        }
      ]
    },
    {
      "cell_type": "code",
      "metadata": {
        "id": "9DhyEyF79jYH"
      },
      "source": [
        "RD = RD[['Bpt', 'PDL', 'prob', 'kpt', 'signLxy', 'cosA']]\n",
        "MC = MC[['Bpt', 'PDL', 'prob', 'kpt', 'signLxy', 'cosA']]"
      ],
      "execution_count": null,
      "outputs": []
    },
    {
      "cell_type": "code",
      "metadata": {
        "id": "ue9Hc3e29sC5"
      },
      "source": [
        "RD_train, RD_test = train_test_split(RD)\n",
        "\n",
        "MC_train, MC_test = train_test_split(MC)"
      ],
      "execution_count": null,
      "outputs": []
    },
    {
      "cell_type": "code",
      "metadata": {
        "id": "qkXL-2Yc9xKm"
      },
      "source": [
        "train_x = RD_train.append(MC_train)\n",
        "test_x  = RD_test.append(MC_test)"
      ],
      "execution_count": null,
      "outputs": []
    },
    {
      "cell_type": "code",
      "metadata": {
        "id": "vUZK_Bot9xw8"
      },
      "source": [
        "train_y = np.append(np.ones(len(RD_train), dtype=float), np.zeros(len(MC_train), dtype=float)) #labels\n",
        "test_y  = np.append(np.ones(len(RD_test), dtype=float), np.zeros(len(MC_test), dtype=float))"
      ],
      "execution_count": null,
      "outputs": []
    },
    {
      "cell_type": "code",
      "metadata": {
        "colab": {
          "base_uri": "https://localhost:8080/",
          "height": 1000
        },
        "id": "LK6bF-ol90O2",
        "outputId": "bbc170b1-20f6-4045-e6d7-85559ed141bc"
      },
      "source": [
        "par = tune_params(train_x, train_y, test_x, test_y)"
      ],
      "execution_count": null,
      "outputs": [
        {
          "output_type": "stream",
          "text": [
            "[0]\tvalidation_0-auc:0.927146\tvalidation_0-error:0.042667\tvalidation_1-auc:0.918974\tvalidation_1-error:0.0484\n",
            "[1]\tvalidation_0-auc:0.930881\tvalidation_0-error:0.042933\tvalidation_1-auc:0.921927\tvalidation_1-error:0.0492\n",
            "[2]\tvalidation_0-auc:0.935453\tvalidation_0-error:0.047333\tvalidation_1-auc:0.925941\tvalidation_1-error:0.0532\n",
            "[3]\tvalidation_0-auc:0.948111\tvalidation_0-error:0.0444\tvalidation_1-auc:0.939114\tvalidation_1-error:0.0484\n",
            "[4]\tvalidation_0-auc:0.948365\tvalidation_0-error:0.043867\tvalidation_1-auc:0.939381\tvalidation_1-error:0.048\n",
            "[5]\tvalidation_0-auc:0.94843\tvalidation_0-error:0.0436\tvalidation_1-auc:0.939404\tvalidation_1-error:0.048\n",
            "[6]\tvalidation_0-auc:0.948504\tvalidation_0-error:0.043067\tvalidation_1-auc:0.939465\tvalidation_1-error:0.048\n",
            "[7]\tvalidation_0-auc:0.95943\tvalidation_0-error:0.0436\tvalidation_1-auc:0.950727\tvalidation_1-error:0.0488\n",
            "[8]\tvalidation_0-auc:0.967253\tvalidation_0-error:0.043467\tvalidation_1-auc:0.959836\tvalidation_1-error:0.048\n",
            "[9]\tvalidation_0-auc:0.971246\tvalidation_0-error:0.042667\tvalidation_1-auc:0.96148\tvalidation_1-error:0.0484\n",
            "[10]\tvalidation_0-auc:0.970933\tvalidation_0-error:0.041867\tvalidation_1-auc:0.961525\tvalidation_1-error:0.0476\n",
            "[11]\tvalidation_0-auc:0.971601\tvalidation_0-error:0.041467\tvalidation_1-auc:0.962\tvalidation_1-error:0.0464\n",
            "[12]\tvalidation_0-auc:0.972127\tvalidation_0-error:0.042\tvalidation_1-auc:0.963803\tvalidation_1-error:0.0468\n",
            "[13]\tvalidation_0-auc:0.972451\tvalidation_0-error:0.0416\tvalidation_1-auc:0.964089\tvalidation_1-error:0.0464\n",
            "[14]\tvalidation_0-auc:0.972657\tvalidation_0-error:0.040667\tvalidation_1-auc:0.964293\tvalidation_1-error:0.0456\n",
            "[15]\tvalidation_0-auc:0.972954\tvalidation_0-error:0.04\tvalidation_1-auc:0.964628\tvalidation_1-error:0.0464\n",
            "[16]\tvalidation_0-auc:0.978764\tvalidation_0-error:0.0384\tvalidation_1-auc:0.972191\tvalidation_1-error:0.0452\n",
            "[17]\tvalidation_0-auc:0.979706\tvalidation_0-error:0.038667\tvalidation_1-auc:0.97401\tvalidation_1-error:0.0456\n",
            "[18]\tvalidation_0-auc:0.97981\tvalidation_0-error:0.038\tvalidation_1-auc:0.974211\tvalidation_1-error:0.0444\n",
            "[19]\tvalidation_0-auc:0.980444\tvalidation_0-error:0.037333\tvalidation_1-auc:0.974597\tvalidation_1-error:0.0436\n",
            "[20]\tvalidation_0-auc:0.98138\tvalidation_0-error:0.036667\tvalidation_1-auc:0.975659\tvalidation_1-error:0.0428\n",
            "[21]\tvalidation_0-auc:0.981781\tvalidation_0-error:0.036133\tvalidation_1-auc:0.976857\tvalidation_1-error:0.042\n",
            "[22]\tvalidation_0-auc:0.981971\tvalidation_0-error:0.035867\tvalidation_1-auc:0.976952\tvalidation_1-error:0.0424\n",
            "[23]\tvalidation_0-auc:0.982591\tvalidation_0-error:0.035067\tvalidation_1-auc:0.977864\tvalidation_1-error:0.0416\n",
            "[24]\tvalidation_0-auc:0.982859\tvalidation_0-error:0.0356\tvalidation_1-auc:0.978652\tvalidation_1-error:0.042\n",
            "[25]\tvalidation_0-auc:0.983199\tvalidation_0-error:0.035067\tvalidation_1-auc:0.979093\tvalidation_1-error:0.0416\n",
            "[26]\tvalidation_0-auc:0.983352\tvalidation_0-error:0.034933\tvalidation_1-auc:0.979233\tvalidation_1-error:0.0416\n",
            "[27]\tvalidation_0-auc:0.983623\tvalidation_0-error:0.0348\tvalidation_1-auc:0.979443\tvalidation_1-error:0.0416\n",
            "[28]\tvalidation_0-auc:0.983942\tvalidation_0-error:0.034\tvalidation_1-auc:0.979802\tvalidation_1-error:0.0408\n",
            "[29]\tvalidation_0-auc:0.984439\tvalidation_0-error:0.034\tvalidation_1-auc:0.980075\tvalidation_1-error:0.0408\n",
            "[30]\tvalidation_0-auc:0.984636\tvalidation_0-error:0.033733\tvalidation_1-auc:0.980159\tvalidation_1-error:0.0396\n",
            "[31]\tvalidation_0-auc:0.984745\tvalidation_0-error:0.033467\tvalidation_1-auc:0.980295\tvalidation_1-error:0.0404\n",
            "[32]\tvalidation_0-auc:0.98493\tvalidation_0-error:0.032933\tvalidation_1-auc:0.980442\tvalidation_1-error:0.0396\n",
            "[33]\tvalidation_0-auc:0.98509\tvalidation_0-error:0.032267\tvalidation_1-auc:0.980862\tvalidation_1-error:0.0392\n",
            "[34]\tvalidation_0-auc:0.985486\tvalidation_0-error:0.032267\tvalidation_1-auc:0.982121\tvalidation_1-error:0.0384\n",
            "[35]\tvalidation_0-auc:0.985598\tvalidation_0-error:0.031867\tvalidation_1-auc:0.982158\tvalidation_1-error:0.0388\n",
            "[36]\tvalidation_0-auc:0.986247\tvalidation_0-error:0.031733\tvalidation_1-auc:0.982427\tvalidation_1-error:0.038\n",
            "[37]\tvalidation_0-auc:0.98641\tvalidation_0-error:0.031733\tvalidation_1-auc:0.982687\tvalidation_1-error:0.0384\n",
            "[38]\tvalidation_0-auc:0.986612\tvalidation_0-error:0.0316\tvalidation_1-auc:0.982876\tvalidation_1-error:0.0372\n",
            "[39]\tvalidation_0-auc:0.986642\tvalidation_0-error:0.031067\tvalidation_1-auc:0.982973\tvalidation_1-error:0.0376\n",
            "[40]\tvalidation_0-auc:0.98686\tvalidation_0-error:0.030933\tvalidation_1-auc:0.983096\tvalidation_1-error:0.038\n",
            "[41]\tvalidation_0-auc:0.986959\tvalidation_0-error:0.0308\tvalidation_1-auc:0.983236\tvalidation_1-error:0.0376\n",
            "[42]\tvalidation_0-auc:0.987186\tvalidation_0-error:0.0308\tvalidation_1-auc:0.983953\tvalidation_1-error:0.0368\n",
            "[43]\tvalidation_0-auc:0.987515\tvalidation_0-error:0.0312\tvalidation_1-auc:0.984424\tvalidation_1-error:0.0368\n",
            "[44]\tvalidation_0-auc:0.988021\tvalidation_0-error:0.0312\tvalidation_1-auc:0.984653\tvalidation_1-error:0.0364\n",
            "[45]\tvalidation_0-auc:0.988109\tvalidation_0-error:0.030933\tvalidation_1-auc:0.984797\tvalidation_1-error:0.0368\n",
            "[46]\tvalidation_0-auc:0.988108\tvalidation_0-error:0.031067\tvalidation_1-auc:0.984935\tvalidation_1-error:0.036\n",
            "[47]\tvalidation_0-auc:0.988309\tvalidation_0-error:0.0312\tvalidation_1-auc:0.985271\tvalidation_1-error:0.036\n",
            "[48]\tvalidation_0-auc:0.988406\tvalidation_0-error:0.031067\tvalidation_1-auc:0.985273\tvalidation_1-error:0.036\n",
            "[49]\tvalidation_0-auc:0.988527\tvalidation_0-error:0.0312\tvalidation_1-auc:0.985545\tvalidation_1-error:0.0364\n",
            "[50]\tvalidation_0-auc:0.988641\tvalidation_0-error:0.0308\tvalidation_1-auc:0.985965\tvalidation_1-error:0.0364\n",
            "[51]\tvalidation_0-auc:0.988699\tvalidation_0-error:0.0308\tvalidation_1-auc:0.986026\tvalidation_1-error:0.0364\n",
            "[52]\tvalidation_0-auc:0.98876\tvalidation_0-error:0.0304\tvalidation_1-auc:0.986108\tvalidation_1-error:0.0356\n",
            "[53]\tvalidation_0-auc:0.988992\tvalidation_0-error:0.0304\tvalidation_1-auc:0.986261\tvalidation_1-error:0.0356\n",
            "[54]\tvalidation_0-auc:0.989148\tvalidation_0-error:0.030267\tvalidation_1-auc:0.986439\tvalidation_1-error:0.0352\n",
            "[55]\tvalidation_0-auc:0.989249\tvalidation_0-error:0.0296\tvalidation_1-auc:0.986545\tvalidation_1-error:0.0352\n",
            "[56]\tvalidation_0-auc:0.98935\tvalidation_0-error:0.029467\tvalidation_1-auc:0.986635\tvalidation_1-error:0.0352\n",
            "[57]\tvalidation_0-auc:0.989384\tvalidation_0-error:0.0292\tvalidation_1-auc:0.986705\tvalidation_1-error:0.0348\n",
            "[58]\tvalidation_0-auc:0.989492\tvalidation_0-error:0.0292\tvalidation_1-auc:0.986811\tvalidation_1-error:0.0344\n",
            "[59]\tvalidation_0-auc:0.98964\tvalidation_0-error:0.028933\tvalidation_1-auc:0.986935\tvalidation_1-error:0.034\n",
            "[60]\tvalidation_0-auc:0.989703\tvalidation_0-error:0.028667\tvalidation_1-auc:0.987058\tvalidation_1-error:0.034\n",
            "[61]\tvalidation_0-auc:0.989729\tvalidation_0-error:0.028667\tvalidation_1-auc:0.987095\tvalidation_1-error:0.0332\n",
            "[62]\tvalidation_0-auc:0.989808\tvalidation_0-error:0.028667\tvalidation_1-auc:0.987278\tvalidation_1-error:0.0332\n",
            "[63]\tvalidation_0-auc:0.989899\tvalidation_0-error:0.028667\tvalidation_1-auc:0.987473\tvalidation_1-error:0.0332\n",
            "[64]\tvalidation_0-auc:0.989951\tvalidation_0-error:0.0288\tvalidation_1-auc:0.987575\tvalidation_1-error:0.0332\n",
            "[65]\tvalidation_0-auc:0.990007\tvalidation_0-error:0.028533\tvalidation_1-auc:0.987612\tvalidation_1-error:0.0332\n",
            "[66]\tvalidation_0-auc:0.990053\tvalidation_0-error:0.028667\tvalidation_1-auc:0.987715\tvalidation_1-error:0.0336\n",
            "[67]\tvalidation_0-auc:0.990086\tvalidation_0-error:0.028667\tvalidation_1-auc:0.987764\tvalidation_1-error:0.0336\n",
            "[68]\tvalidation_0-auc:0.990158\tvalidation_0-error:0.028667\tvalidation_1-auc:0.987923\tvalidation_1-error:0.0336\n",
            "[69]\tvalidation_0-auc:0.990286\tvalidation_0-error:0.028667\tvalidation_1-auc:0.988002\tvalidation_1-error:0.0332\n",
            "[70]\tvalidation_0-auc:0.990321\tvalidation_0-error:0.0284\tvalidation_1-auc:0.988091\tvalidation_1-error:0.0332\n",
            "[71]\tvalidation_0-auc:0.990338\tvalidation_0-error:0.028667\tvalidation_1-auc:0.988099\tvalidation_1-error:0.0328\n",
            "[72]\tvalidation_0-auc:0.990445\tvalidation_0-error:0.028533\tvalidation_1-auc:0.988265\tvalidation_1-error:0.0328\n",
            "[73]\tvalidation_0-auc:0.990574\tvalidation_0-error:0.0284\tvalidation_1-auc:0.988288\tvalidation_1-error:0.0332\n",
            "[74]\tvalidation_0-auc:0.990572\tvalidation_0-error:0.028133\tvalidation_1-auc:0.988323\tvalidation_1-error:0.0328\n",
            "[75]\tvalidation_0-auc:0.990628\tvalidation_0-error:0.028\tvalidation_1-auc:0.988446\tvalidation_1-error:0.0328\n",
            "[76]\tvalidation_0-auc:0.990632\tvalidation_0-error:0.028\tvalidation_1-auc:0.988462\tvalidation_1-error:0.0328\n",
            "[77]\tvalidation_0-auc:0.990641\tvalidation_0-error:0.027867\tvalidation_1-auc:0.988527\tvalidation_1-error:0.0328\n",
            "[78]\tvalidation_0-auc:0.99073\tvalidation_0-error:0.027867\tvalidation_1-auc:0.988581\tvalidation_1-error:0.0328\n",
            "[79]\tvalidation_0-auc:0.99085\tvalidation_0-error:0.028\tvalidation_1-auc:0.988648\tvalidation_1-error:0.0328\n",
            "[80]\tvalidation_0-auc:0.990857\tvalidation_0-error:0.0276\tvalidation_1-auc:0.988713\tvalidation_1-error:0.0328\n",
            "[81]\tvalidation_0-auc:0.990893\tvalidation_0-error:0.027733\tvalidation_1-auc:0.98871\tvalidation_1-error:0.0332\n",
            "[82]\tvalidation_0-auc:0.990894\tvalidation_0-error:0.0276\tvalidation_1-auc:0.988736\tvalidation_1-error:0.0328\n",
            "[83]\tvalidation_0-auc:0.99101\tvalidation_0-error:0.027733\tvalidation_1-auc:0.988818\tvalidation_1-error:0.0328\n",
            "[84]\tvalidation_0-auc:0.991073\tvalidation_0-error:0.027733\tvalidation_1-auc:0.988867\tvalidation_1-error:0.032\n",
            "[85]\tvalidation_0-auc:0.991307\tvalidation_0-error:0.027733\tvalidation_1-auc:0.988927\tvalidation_1-error:0.0324\n",
            "[86]\tvalidation_0-auc:0.991318\tvalidation_0-error:0.027733\tvalidation_1-auc:0.988932\tvalidation_1-error:0.032\n",
            "[87]\tvalidation_0-auc:0.991366\tvalidation_0-error:0.027733\tvalidation_1-auc:0.989003\tvalidation_1-error:0.032\n",
            "[88]\tvalidation_0-auc:0.991379\tvalidation_0-error:0.027733\tvalidation_1-auc:0.989012\tvalidation_1-error:0.032\n",
            "[89]\tvalidation_0-auc:0.99144\tvalidation_0-error:0.027333\tvalidation_1-auc:0.989033\tvalidation_1-error:0.0316\n",
            "[90]\tvalidation_0-auc:0.991493\tvalidation_0-error:0.027333\tvalidation_1-auc:0.989113\tvalidation_1-error:0.0316\n",
            "[91]\tvalidation_0-auc:0.991535\tvalidation_0-error:0.027333\tvalidation_1-auc:0.989207\tvalidation_1-error:0.0316\n",
            "[92]\tvalidation_0-auc:0.991554\tvalidation_0-error:0.0272\tvalidation_1-auc:0.989183\tvalidation_1-error:0.0316\n",
            "[93]\tvalidation_0-auc:0.991591\tvalidation_0-error:0.027333\tvalidation_1-auc:0.98921\tvalidation_1-error:0.0316\n",
            "[94]\tvalidation_0-auc:0.991599\tvalidation_0-error:0.027067\tvalidation_1-auc:0.989227\tvalidation_1-error:0.0316\n",
            "[95]\tvalidation_0-auc:0.991645\tvalidation_0-error:0.027067\tvalidation_1-auc:0.989254\tvalidation_1-error:0.0316\n",
            "[96]\tvalidation_0-auc:0.991666\tvalidation_0-error:0.026933\tvalidation_1-auc:0.9893\tvalidation_1-error:0.032\n",
            "[97]\tvalidation_0-auc:0.99168\tvalidation_0-error:0.027067\tvalidation_1-auc:0.989317\tvalidation_1-error:0.0316\n",
            "[98]\tvalidation_0-auc:0.991734\tvalidation_0-error:0.0272\tvalidation_1-auc:0.989331\tvalidation_1-error:0.0316\n",
            "[99]\tvalidation_0-auc:0.991787\tvalidation_0-error:0.027067\tvalidation_1-auc:0.989407\tvalidation_1-error:0.032\n",
            "[100]\tvalidation_0-auc:0.991806\tvalidation_0-error:0.027067\tvalidation_1-auc:0.989461\tvalidation_1-error:0.0312\n",
            "[101]\tvalidation_0-auc:0.991816\tvalidation_0-error:0.027067\tvalidation_1-auc:0.989447\tvalidation_1-error:0.0316\n",
            "[102]\tvalidation_0-auc:0.991863\tvalidation_0-error:0.027067\tvalidation_1-auc:0.989486\tvalidation_1-error:0.0316\n",
            "[103]\tvalidation_0-auc:0.991872\tvalidation_0-error:0.027067\tvalidation_1-auc:0.989491\tvalidation_1-error:0.0316\n",
            "[104]\tvalidation_0-auc:0.991897\tvalidation_0-error:0.0268\tvalidation_1-auc:0.98954\tvalidation_1-error:0.0316\n",
            "[105]\tvalidation_0-auc:0.991933\tvalidation_0-error:0.0268\tvalidation_1-auc:0.989604\tvalidation_1-error:0.0316\n",
            "[106]\tvalidation_0-auc:0.991946\tvalidation_0-error:0.026933\tvalidation_1-auc:0.989578\tvalidation_1-error:0.0316\n",
            "[107]\tvalidation_0-auc:0.991964\tvalidation_0-error:0.0268\tvalidation_1-auc:0.989623\tvalidation_1-error:0.0316\n",
            "[108]\tvalidation_0-auc:0.992013\tvalidation_0-error:0.026533\tvalidation_1-auc:0.989721\tvalidation_1-error:0.0316\n",
            "[109]\tvalidation_0-auc:0.992008\tvalidation_0-error:0.026533\tvalidation_1-auc:0.989751\tvalidation_1-error:0.0316\n",
            "[110]\tvalidation_0-auc:0.992044\tvalidation_0-error:0.0264\tvalidation_1-auc:0.989802\tvalidation_1-error:0.0316\n",
            "[111]\tvalidation_0-auc:0.992052\tvalidation_0-error:0.026533\tvalidation_1-auc:0.989837\tvalidation_1-error:0.0316\n",
            "[112]\tvalidation_0-auc:0.992075\tvalidation_0-error:0.026533\tvalidation_1-auc:0.989853\tvalidation_1-error:0.0316\n",
            "[113]\tvalidation_0-auc:0.992115\tvalidation_0-error:0.026533\tvalidation_1-auc:0.989867\tvalidation_1-error:0.0316\n",
            "[114]\tvalidation_0-auc:0.992126\tvalidation_0-error:0.026533\tvalidation_1-auc:0.989881\tvalidation_1-error:0.0316\n",
            "[115]\tvalidation_0-auc:0.992159\tvalidation_0-error:0.0264\tvalidation_1-auc:0.989895\tvalidation_1-error:0.0316\n",
            "[116]\tvalidation_0-auc:0.992177\tvalidation_0-error:0.026267\tvalidation_1-auc:0.989956\tvalidation_1-error:0.0324\n",
            "[117]\tvalidation_0-auc:0.992191\tvalidation_0-error:0.0264\tvalidation_1-auc:0.989961\tvalidation_1-error:0.0316\n",
            "[118]\tvalidation_0-auc:0.992212\tvalidation_0-error:0.026533\tvalidation_1-auc:0.989995\tvalidation_1-error:0.0324\n",
            "[119]\tvalidation_0-auc:0.992273\tvalidation_0-error:0.0264\tvalidation_1-auc:0.990048\tvalidation_1-error:0.0324\n",
            "[120]\tvalidation_0-auc:0.992279\tvalidation_0-error:0.026533\tvalidation_1-auc:0.990046\tvalidation_1-error:0.0324\n",
            "[121]\tvalidation_0-auc:0.99231\tvalidation_0-error:0.0264\tvalidation_1-auc:0.990086\tvalidation_1-error:0.032\n",
            "[122]\tvalidation_0-auc:0.992329\tvalidation_0-error:0.0264\tvalidation_1-auc:0.990111\tvalidation_1-error:0.0316\n",
            "[123]\tvalidation_0-auc:0.992327\tvalidation_0-error:0.0264\tvalidation_1-auc:0.990113\tvalidation_1-error:0.0316\n",
            "[124]\tvalidation_0-auc:0.992346\tvalidation_0-error:0.0264\tvalidation_1-auc:0.990143\tvalidation_1-error:0.0316\n",
            "[125]\tvalidation_0-auc:0.992342\tvalidation_0-error:0.026267\tvalidation_1-auc:0.990146\tvalidation_1-error:0.0316\n",
            "[126]\tvalidation_0-auc:0.992351\tvalidation_0-error:0.0264\tvalidation_1-auc:0.990164\tvalidation_1-error:0.0316\n",
            "[127]\tvalidation_0-auc:0.992417\tvalidation_0-error:0.026533\tvalidation_1-auc:0.990186\tvalidation_1-error:0.0316\n",
            "[128]\tvalidation_0-auc:0.992434\tvalidation_0-error:0.026533\tvalidation_1-auc:0.990215\tvalidation_1-error:0.0316\n",
            "[129]\tvalidation_0-auc:0.992438\tvalidation_0-error:0.0264\tvalidation_1-auc:0.99022\tvalidation_1-error:0.032\n",
            "[130]\tvalidation_0-auc:0.992445\tvalidation_0-error:0.0264\tvalidation_1-auc:0.990255\tvalidation_1-error:0.032\n",
            "[131]\tvalidation_0-auc:0.992462\tvalidation_0-error:0.026267\tvalidation_1-auc:0.990296\tvalidation_1-error:0.0316\n",
            "[132]\tvalidation_0-auc:0.992472\tvalidation_0-error:0.026267\tvalidation_1-auc:0.990295\tvalidation_1-error:0.032\n",
            "[133]\tvalidation_0-auc:0.992522\tvalidation_0-error:0.026\tvalidation_1-auc:0.990329\tvalidation_1-error:0.032\n",
            "[134]\tvalidation_0-auc:0.99251\tvalidation_0-error:0.026133\tvalidation_1-auc:0.990328\tvalidation_1-error:0.032\n",
            "[135]\tvalidation_0-auc:0.992527\tvalidation_0-error:0.025867\tvalidation_1-auc:0.990348\tvalidation_1-error:0.032\n",
            "[136]\tvalidation_0-auc:0.992539\tvalidation_0-error:0.025867\tvalidation_1-auc:0.990365\tvalidation_1-error:0.032\n",
            "[137]\tvalidation_0-auc:0.992545\tvalidation_0-error:0.025867\tvalidation_1-auc:0.990364\tvalidation_1-error:0.032\n",
            "[138]\tvalidation_0-auc:0.992573\tvalidation_0-error:0.025867\tvalidation_1-auc:0.990395\tvalidation_1-error:0.032\n",
            "[139]\tvalidation_0-auc:0.992589\tvalidation_0-error:0.025867\tvalidation_1-auc:0.990409\tvalidation_1-error:0.032\n",
            "[140]\tvalidation_0-auc:0.992621\tvalidation_0-error:0.025733\tvalidation_1-auc:0.990466\tvalidation_1-error:0.032\n",
            "[141]\tvalidation_0-auc:0.992628\tvalidation_0-error:0.026\tvalidation_1-auc:0.990467\tvalidation_1-error:0.032\n",
            "[142]\tvalidation_0-auc:0.992658\tvalidation_0-error:0.025733\tvalidation_1-auc:0.990466\tvalidation_1-error:0.032\n",
            "[143]\tvalidation_0-auc:0.992658\tvalidation_0-error:0.025733\tvalidation_1-auc:0.990485\tvalidation_1-error:0.032\n",
            "[144]\tvalidation_0-auc:0.992668\tvalidation_0-error:0.025333\tvalidation_1-auc:0.990505\tvalidation_1-error:0.0324\n",
            "[145]\tvalidation_0-auc:0.99267\tvalidation_0-error:0.0252\tvalidation_1-auc:0.990527\tvalidation_1-error:0.032\n",
            "[146]\tvalidation_0-auc:0.992695\tvalidation_0-error:0.0252\tvalidation_1-auc:0.99056\tvalidation_1-error:0.032\n",
            "[147]\tvalidation_0-auc:0.992697\tvalidation_0-error:0.025333\tvalidation_1-auc:0.990535\tvalidation_1-error:0.032\n",
            "[148]\tvalidation_0-auc:0.992739\tvalidation_0-error:0.0252\tvalidation_1-auc:0.990541\tvalidation_1-error:0.0324\n",
            "[149]\tvalidation_0-auc:0.992742\tvalidation_0-error:0.0252\tvalidation_1-auc:0.990542\tvalidation_1-error:0.032\n",
            "CPU times: user 2.15 s, sys: 58.9 ms, total: 2.21 s\n",
            "Wall time: 2.33 s\n"
          ],
          "name": "stdout"
        },
        {
          "output_type": "display_data",
          "data": {
            "image/png": "[encoded data removed]",
            "text/plain": [
              "<Figure size 504x504 with 1 Axes>"
            ]
          },
          "metadata": {
            "tags": [],
            "needs_background": "light"
          }
        },
        {
          "output_type": "stream",
          "text": [
            "{'n_estimators': 250, 'max_depth': 6, 'min_child_weight': 1}\n",
            "Test :  0.994757\n",
            "Train :  0.9974090000000001\n"
          ],
          "name": "stdout"
        },
        {
          "output_type": "display_data",
          "data": {
            "image/png": "[encoded data removed]",
            "text/plain": [
              "<Figure size 720x504 with 1 Axes>"
            ]
          },
          "metadata": {
            "tags": [],
            "needs_background": "light"
          }
        }
      ]
    },
    {
      "cell_type": "code",
      "metadata": {
        "colab": {
          "base_uri": "https://localhost:8080/"
        },
        "id": "QJxeo7qYARUc",
        "outputId": "761272e5-1555-45f0-8ba3-f34839128983"
      },
      "source": [
        "par"
      ],
      "execution_count": null,
      "outputs": [
        {
          "output_type": "execute_result",
          "data": {
            "text/plain": [
              "{'colsample_bytree': 1,\n",
              " 'gamma': 0.15,\n",
              " 'max_depth': 6,\n",
              " 'min_child_weight': 1,\n",
              " 'n_estimators': 250,\n",
              " 'reg_alpha': 1,\n",
              " 'reg_lambda': 200,\n",
              " 'subsample': 1}"
            ]
          },
          "metadata": {
            "tags": []
          },
          "execution_count": 12
        }
      ]
    },
    {
      "cell_type": "code",
      "metadata": {
        "id": "1yKryaKB93FD"
      },
      "source": [
        "model = xgb.XGBClassifier(objective='binary:logistic',\n",
        "                          learning_rate=0.2,\n",
        "                          gamma=0.15,\n",
        "                          min_child_weight=1,\n",
        "                          n_estimators=250,\n",
        "                          reg_alpha=1,\n",
        "                          reg_lambda=200,\n",
        "                          colsample_bytree=1,\n",
        "                          subsample=1,\n",
        "                          max_depth=6)"
      ],
      "execution_count": null,
      "outputs": []
    },
    {
      "cell_type": "code",
      "metadata": {
        "colab": {
          "base_uri": "https://localhost:8080/"
        },
        "id": "nJqBcO1lAgq6",
        "outputId": "1db0b55e-1a85-435c-cc3c-de92cb65b01c"
      },
      "source": [
        "model.fit(train_x, train_y)"
      ],
      "execution_count": null,
      "outputs": [
        {
          "output_type": "execute_result",
          "data": {
            "text/plain": [
              "XGBClassifier(base_score=0.5, booster='gbtree', colsample_bylevel=1,\n",
              "              colsample_bynode=1, colsample_bytree=1, gamma=0.15,\n",
              "              learning_rate=0.2, max_delta_step=0, max_depth=6,\n",
              "              min_child_weight=1, missing=None, n_estimators=250, n_jobs=1,\n",
              "              nthread=None, objective='binary:logistic', random_state=0,\n",
              "              reg_alpha=1, reg_lambda=200, scale_pos_weight=1, seed=None,\n",
              "              silent=None, subsample=1, verbosity=1)"
            ]
          },
          "metadata": {
            "tags": []
          },
          "execution_count": 14
        }
      ]
    },
    {
      "cell_type": "code",
      "metadata": {
        "colab": {
          "base_uri": "https://localhost:8080/",
          "height": 506
        },
        "id": "S-nk1TL6AkPO",
        "outputId": "0b6fc2e8-05fe-4b2d-8381-0550b1a53861"
      },
      "source": [
        "roc(test_x, test_y, train_x, train_y)"
      ],
      "execution_count": null,
      "outputs": [
        {
          "output_type": "stream",
          "text": [
            "Test :  0.994757\n",
            "Train :  0.9974090000000001\n"
          ],
          "name": "stdout"
        },
        {
          "output_type": "display_data",
          "data": {
            "image/png": "[encoded data removed]",
            "text/plain": [
              "<Figure size 720x504 with 1 Axes>"
            ]
          },
          "metadata": {
            "tags": [],
            "needs_background": "light"
          }
        }
      ]
    },
    {
      "cell_type": "code",
      "metadata": {
        "id": "KQHVT4cGAm2-"
      },
      "source": [
        "if 'XGB' not in MC:\n",
        "    MC['XGB'] = model.predict_proba(MC)[:,1] #probability of being real data\n",
        "if 'XGB' not in RD:\n",
        "    RD['XGB'] = model.predict_proba(RD)[:,1] #probability of being RD"
      ],
      "execution_count": null,
      "outputs": []
    },
    {
      "cell_type": "code",
      "metadata": {
        "colab": {
          "base_uri": "https://localhost:8080/",
          "height": 1000
        },
        "id": "RcN-RvqFAp1Z",
        "outputId": "c6c072bd-33bd-4bfb-86cb-81cf1f2d7410"
      },
      "source": [
        "for k in MC:\n",
        "    plt.title(k)\n",
        "    h = plt.hist(MC[k], bins=50, label='MonteCarlo', alpha = 0.7, color='tab:blue', density=True)\n",
        "    plt.hist(RD[k], bins=h[1], label='RealData', alpha = 0.5, color='tab:orange', density=True)\n",
        "    plt.legend(frameon=True)\n",
        "    if k == 'XGB': plt.yscale('log')\n",
        "    plt.show()"
      ],
      "execution_count": null,
      "outputs": [
        {
          "output_type": "display_data",
          "data": {
            "image/png": "[encoded data removed]",
            "text/plain": [
              "<Figure size 432x288 with 1 Axes>"
            ]
          },
          "metadata": {
            "tags": [],
            "needs_background": "light"
          }
        },
        {
          "output_type": "display_data",
          "data": {
            "image/png": "[encoded data removed]",
            "text/plain": [
              "<Figure size 432x288 with 1 Axes>"
            ]
          },
          "metadata": {
            "tags": [],
            "needs_background": "light"
          }
        },
        {
          "output_type": "display_data",
          "data": {
            "image/png": "[encoded data removed]",
            "text/plain": [
              "<Figure size 432x288 with 1 Axes>"
            ]
          },
          "metadata": {
            "tags": [],
            "needs_background": "light"
          }
        },
        {
          "output_type": "display_data",
          "data": {
            "image/png": "[encoded data removed]",
            "text/plain": [
              "<Figure size 432x288 with 1 Axes>"
            ]
          },
          "metadata": {
            "tags": [],
            "needs_background": "light"
          }
        },
        {
          "output_type": "display_data",
          "data": {
            "image/png": "[encoded data removed]",
            "text/plain": [
              "<Figure size 432x288 with 1 Axes>"
            ]
          },
          "metadata": {
            "tags": [],
            "needs_background": "light"
          }
        },
        {
          "output_type": "display_data",
          "data": {
            "image/png": "[encoded data removed]",
            "text/plain": [
              "<Figure size 432x288 with 1 Axes>"
            ]
          },
          "metadata": {
            "tags": [],
            "needs_background": "light"
          }
        },
        {
          "output_type": "display_data",
          "data": {
            "image/png": "[encoded data removed]",
            "text/plain": [
              "<Figure size 432x288 with 1 Axes>"
            ]
          },
          "metadata": {
            "tags": [],
            "needs_background": "light"
          }
        }
      ]
    },
    {
      "cell_type": "code",
      "metadata": {
        "id": "L-WEZZqcAsYo"
      },
      "source": [
        "weights = MC['XGB']/(1-MC['XGB'])"
      ],
      "execution_count": null,
      "outputs": []
    },
    {
      "cell_type": "code",
      "metadata": {
        "colab": {
          "base_uri": "https://localhost:8080/",
          "height": 281
        },
        "id": "zQbsLPtGAv6C",
        "outputId": "6183ce17-46f7-4446-ce21-c1cb1b1645f4"
      },
      "source": [
        "plt.title('Weights Distribution')\n",
        "plt.hist(weights, bins=100)\n",
        "plt.yscale('log')\n",
        "plt.show()"
      ],
      "execution_count": null,
      "outputs": [
        {
          "output_type": "display_data",
          "data": {
            "image/png": "[encoded data removed]",
            "text/plain": [
              "<Figure size 432x288 with 1 Axes>"
            ]
          },
          "metadata": {
            "tags": [],
            "needs_background": "light"
          }
        }
      ]
    },
    {
      "cell_type": "code",
      "metadata": {
        "colab": {
          "base_uri": "https://localhost:8080/"
        },
        "id": "RvEw4W-NAxb9",
        "outputId": "10b64cee-489a-48a1-951d-36d9f5fb6655"
      },
      "source": [
        "np.any(MC['XGB']==1)"
      ],
      "execution_count": null,
      "outputs": [
        {
          "output_type": "execute_result",
          "data": {
            "text/plain": [
              "False"
            ]
          },
          "metadata": {
            "tags": []
          },
          "execution_count": 20
        }
      ]
    },
    {
      "cell_type": "code",
      "metadata": {
        "colab": {
          "base_uri": "https://localhost:8080/"
        },
        "id": "6OT6k8IPAzZU",
        "outputId": "e6d341c6-81d7-42ab-ea93-3f91ad391d4b"
      },
      "source": [
        "!pip install hep_ml"
      ],
      "execution_count": null,
      "outputs": [
        {
          "output_type": "stream",
          "text": [
            "Collecting hep_ml\n",
            "\u001b[?25l  Downloading https://files.pythonhosted.org/packages/08/e2/3822eb2b1f13361e2d0f873d8a8eca43b7f2e01e477129db3c0d0a8f3d50/hep_ml-0.6.2-py2.py3-none-any.whl (54kB)\n",
            "\r\u001b[K     |██████                          | 10kB 13.5MB/s eta 0:00:01\r\u001b[K     |████████████                    | 20kB 18.3MB/s eta 0:00:01\r\u001b[K     |█████████████████▉              | 30kB 11.6MB/s eta 0:00:01\r\u001b[K     |███████████████████████▉        | 40kB 9.1MB/s eta 0:00:01\r\u001b[K     |█████████████████████████████▉  | 51kB 5.1MB/s eta 0:00:01\r\u001b[K     |████████████████████████████████| 61kB 3.1MB/s \n",
            "\u001b[?25hRequirement already satisfied: pandas>=0.14.0 in /usr/local/lib/python3.7/dist-packages (from hep_ml) (1.1.5)\n",
            "Requirement already satisfied: scikit-learn>=0.19 in /usr/local/lib/python3.7/dist-packages (from hep_ml) (0.22.2.post1)\n",
            "Requirement already satisfied: six in /usr/local/lib/python3.7/dist-packages (from hep_ml) (1.15.0)\n",
            "Requirement already satisfied: scipy>=0.15.0 in /usr/local/lib/python3.7/dist-packages (from hep_ml) (1.4.1)\n",
            "Requirement already satisfied: numpy>=1.9 in /usr/local/lib/python3.7/dist-packages (from hep_ml) (1.19.5)\n",
            "Collecting theano>=1.0.2\n",
            "\u001b[?25l  Downloading https://files.pythonhosted.org/packages/6b/97/bcd5654ba60f35f180931afabbd3b4c46c0379852f961c7a2819ff897f5d/Theano-1.0.5.tar.gz (2.8MB)\n",
            "\u001b[K     |████████████████████████████████| 2.8MB 8.9MB/s \n",
            "\u001b[?25hRequirement already satisfied: pytz>=2017.2 in /usr/local/lib/python3.7/dist-packages (from pandas>=0.14.0->hep_ml) (2018.9)\n",
            "Requirement already satisfied: python-dateutil>=2.7.3 in /usr/local/lib/python3.7/dist-packages (from pandas>=0.14.0->hep_ml) (2.8.1)\n",
            "Requirement already satisfied: joblib>=0.11 in /usr/local/lib/python3.7/dist-packages (from scikit-learn>=0.19->hep_ml) (1.0.1)\n",
            "Building wheels for collected packages: theano\n",
            "  Building wheel for theano (setup.py) ... \u001b[?25l\u001b[?25hdone\n",
            "  Created wheel for theano: filename=Theano-1.0.5-cp37-none-any.whl size=2668111 sha256=75c9a31de92670e7ccb60301bf920b0dc1c5408544f510ca959849a01831e7c1\n",
            "  Stored in directory: /root/.cache/pip/wheels/89/40/74/3a0b7d937890c66c4373120117ebf4ba99f4889b4a0a6a810c\n",
            "Successfully built theano\n",
            "Installing collected packages: theano, hep-ml\n",
            "Successfully installed hep-ml-0.6.2 theano-1.0.5\n"
          ],
          "name": "stdout"
        }
      ]
    },
    {
      "cell_type": "code",
      "metadata": {
        "id": "iP2FGX6sA2J5"
      },
      "source": [
        "from scipy import stats\n",
        "#import hep_ml\n",
        "from hep_ml.metrics_utils import ks_2samp_weighted\n",
        "\n",
        "import ks_test"
      ],
      "execution_count": null,
      "outputs": []
    },
    {
      "cell_type": "code",
      "metadata": {
        "colab": {
          "base_uri": "https://localhost:8080/",
          "height": 419
        },
        "id": "HcuiHtQbDq0K",
        "outputId": "f377a2af-7c1f-4491-cef7-edaebc0962aa"
      },
      "source": [
        "MC"
      ],
      "execution_count": null,
      "outputs": [
        {
          "output_type": "execute_result",
          "data": {
            "text/html": [
              "<div>\n",
              "<style scoped>\n",
              "    .dataframe tbody tr th:only-of-type {\n",
              "        vertical-align: middle;\n",
              "    }\n",
              "\n",
              "    .dataframe tbody tr th {\n",
              "        vertical-align: top;\n",
              "    }\n",
              "\n",
              "    .dataframe thead th {\n",
              "        text-align: right;\n",
              "    }\n",
              "</style>\n",
              "<table border=\"1\" class=\"dataframe\">\n",
              "  <thead>\n",
              "    <tr style=\"text-align: right;\">\n",
              "      <th></th>\n",
              "      <th>Bpt</th>\n",
              "      <th>PDL</th>\n",
              "      <th>prob</th>\n",
              "      <th>kpt</th>\n",
              "      <th>signLxy</th>\n",
              "      <th>cosA</th>\n",
              "      <th>XGB</th>\n",
              "    </tr>\n",
              "  </thead>\n",
              "  <tbody>\n",
              "    <tr>\n",
              "      <th>846557</th>\n",
              "      <td>3.197039</td>\n",
              "      <td>0.027220</td>\n",
              "      <td>0.015701</td>\n",
              "      <td>0.754576</td>\n",
              "      <td>3.319806</td>\n",
              "      <td>0.980964</td>\n",
              "      <td>0.001002</td>\n",
              "    </tr>\n",
              "    <tr>\n",
              "      <th>602916</th>\n",
              "      <td>5.740430</td>\n",
              "      <td>0.014964</td>\n",
              "      <td>0.166422</td>\n",
              "      <td>4.778899</td>\n",
              "      <td>4.977643</td>\n",
              "      <td>0.667695</td>\n",
              "      <td>0.002903</td>\n",
              "    </tr>\n",
              "    <tr>\n",
              "      <th>693903</th>\n",
              "      <td>21.223192</td>\n",
              "      <td>0.005489</td>\n",
              "      <td>0.018952</td>\n",
              "      <td>1.811541</td>\n",
              "      <td>3.242698</td>\n",
              "      <td>0.951301</td>\n",
              "      <td>0.014115</td>\n",
              "    </tr>\n",
              "    <tr>\n",
              "      <th>1397520</th>\n",
              "      <td>19.846544</td>\n",
              "      <td>0.009391</td>\n",
              "      <td>0.256810</td>\n",
              "      <td>0.576531</td>\n",
              "      <td>1.835706</td>\n",
              "      <td>0.999062</td>\n",
              "      <td>0.017273</td>\n",
              "    </tr>\n",
              "    <tr>\n",
              "      <th>500805</th>\n",
              "      <td>10.660144</td>\n",
              "      <td>0.007417</td>\n",
              "      <td>0.386343</td>\n",
              "      <td>1.885670</td>\n",
              "      <td>1.486022</td>\n",
              "      <td>0.984047</td>\n",
              "      <td>0.004370</td>\n",
              "    </tr>\n",
              "    <tr>\n",
              "      <th>...</th>\n",
              "      <td>...</td>\n",
              "      <td>...</td>\n",
              "      <td>...</td>\n",
              "      <td>...</td>\n",
              "      <td>...</td>\n",
              "      <td>...</td>\n",
              "      <td>...</td>\n",
              "    </tr>\n",
              "    <tr>\n",
              "      <th>672911</th>\n",
              "      <td>17.424704</td>\n",
              "      <td>0.000716</td>\n",
              "      <td>0.184582</td>\n",
              "      <td>2.186565</td>\n",
              "      <td>3.088632</td>\n",
              "      <td>0.526190</td>\n",
              "      <td>0.006597</td>\n",
              "    </tr>\n",
              "    <tr>\n",
              "      <th>297742</th>\n",
              "      <td>5.479703</td>\n",
              "      <td>0.010051</td>\n",
              "      <td>0.001046</td>\n",
              "      <td>1.318756</td>\n",
              "      <td>3.716656</td>\n",
              "      <td>0.925099</td>\n",
              "      <td>0.001033</td>\n",
              "    </tr>\n",
              "    <tr>\n",
              "      <th>1103006</th>\n",
              "      <td>13.090983</td>\n",
              "      <td>0.007505</td>\n",
              "      <td>0.262427</td>\n",
              "      <td>2.619250</td>\n",
              "      <td>2.464988</td>\n",
              "      <td>0.851963</td>\n",
              "      <td>0.005389</td>\n",
              "    </tr>\n",
              "    <tr>\n",
              "      <th>2130648</th>\n",
              "      <td>12.989970</td>\n",
              "      <td>0.016402</td>\n",
              "      <td>0.190406</td>\n",
              "      <td>0.571891</td>\n",
              "      <td>3.263517</td>\n",
              "      <td>0.968041</td>\n",
              "      <td>0.001952</td>\n",
              "    </tr>\n",
              "    <tr>\n",
              "      <th>1305090</th>\n",
              "      <td>17.421928</td>\n",
              "      <td>0.007251</td>\n",
              "      <td>0.044359</td>\n",
              "      <td>0.775607</td>\n",
              "      <td>3.004590</td>\n",
              "      <td>0.988024</td>\n",
              "      <td>0.008682</td>\n",
              "    </tr>\n",
              "  </tbody>\n",
              "</table>\n",
              "<p>8000 rows × 7 columns</p>\n",
              "</div>"
            ],
            "text/plain": [
              "               Bpt       PDL      prob       kpt   signLxy      cosA       XGB\n",
              "846557    3.197039  0.027220  0.015701  0.754576  3.319806  0.980964  0.001002\n",
              "602916    5.740430  0.014964  0.166422  4.778899  4.977643  0.667695  0.002903\n",
              "693903   21.223192  0.005489  0.018952  1.811541  3.242698  0.951301  0.014115\n",
              "1397520  19.846544  0.009391  0.256810  0.576531  1.835706  0.999062  0.017273\n",
              "500805   10.660144  0.007417  0.386343  1.885670  1.486022  0.984047  0.004370\n",
              "...            ...       ...       ...       ...       ...       ...       ...\n",
              "672911   17.424704  0.000716  0.184582  2.186565  3.088632  0.526190  0.006597\n",
              "297742    5.479703  0.010051  0.001046  1.318756  3.716656  0.925099  0.001033\n",
              "1103006  13.090983  0.007505  0.262427  2.619250  2.464988  0.851963  0.005389\n",
              "2130648  12.989970  0.016402  0.190406  0.571891  3.263517  0.968041  0.001952\n",
              "1305090  17.421928  0.007251  0.044359  0.775607  3.004590  0.988024  0.008682\n",
              "\n",
              "[8000 rows x 7 columns]"
            ]
          },
          "metadata": {
            "tags": []
          },
          "execution_count": 26
        }
      ]
    },
    {
      "cell_type": "code",
      "metadata": {
        "colab": {
          "base_uri": "https://localhost:8080/"
        },
        "id": "Dv2YnFdHDtp-",
        "outputId": "03aae8bb-5fc0-4ae2-c97e-c862f336c2c8"
      },
      "source": [
        "for j in MC:\n",
        "  print(j)"
      ],
      "execution_count": null,
      "outputs": [
        {
          "output_type": "stream",
          "text": [
            "Bpt\n",
            "PDL\n",
            "prob\n",
            "kpt\n",
            "signLxy\n",
            "cosA\n",
            "XGB\n"
          ],
          "name": "stdout"
        }
      ]
    },
    {
      "cell_type": "code",
      "metadata": {
        "colab": {
          "base_uri": "https://localhost:8080/"
        },
        "id": "a5yPkIzlEV_1",
        "outputId": "21a981f8-c563-453d-97bf-8141e1e3ce1d"
      },
      "source": [
        "RD['Bpt']"
      ],
      "execution_count": null,
      "outputs": [
        {
          "output_type": "execute_result",
          "data": {
            "text/plain": [
              "15527    53.841000\n",
              "28009    13.345943\n",
              "19944    19.678831\n",
              "26067    14.061918\n",
              "36365    20.260057\n",
              "           ...    \n",
              "5426     14.846232\n",
              "12000    15.361895\n",
              "37194    32.588638\n",
              "24042    20.832119\n",
              "51079    18.810871\n",
              "Name: Bpt, Length: 2000, dtype: float32"
            ]
          },
          "metadata": {
            "tags": []
          },
          "execution_count": 32
        }
      ]
    },
    {
      "cell_type": "code",
      "metadata": {
        "colab": {
          "base_uri": "https://localhost:8080/",
          "height": 163
        },
        "id": "Io6Q0oq-D0hb",
        "outputId": "c01560d2-6c68-44ed-cb62-b7318071fb02"
      },
      "source": [
        "print('K-S Test Final: ', ks_test.ks_2samp_weighted(RD[Bpt], MC[Bpt], weights2=weights))"
      ],
      "execution_count": null,
      "outputs": [
        {
          "output_type": "error",
          "ename": "NameError",
          "evalue": "ignored",
          "traceback": [
            "\u001b[0;31m---------------------------------------------------------------------------\u001b[0m",
            "\u001b[0;31mNameError\u001b[0m                                 Traceback (most recent call last)",
            "\u001b[0;32m<ipython-input-28-6ffddec59fd7>\u001b[0m in \u001b[0;36m<module>\u001b[0;34m()\u001b[0m\n\u001b[0;32m----> 1\u001b[0;31m \u001b[0mprint\u001b[0m\u001b[0;34m(\u001b[0m\u001b[0;34m'K-S Test Final: '\u001b[0m\u001b[0;34m,\u001b[0m \u001b[0mks_test\u001b[0m\u001b[0;34m.\u001b[0m\u001b[0mks_2samp_weighted\u001b[0m\u001b[0;34m(\u001b[0m\u001b[0mRD\u001b[0m\u001b[0;34m[\u001b[0m\u001b[0mBpt\u001b[0m\u001b[0;34m]\u001b[0m\u001b[0;34m,\u001b[0m \u001b[0mMC\u001b[0m\u001b[0;34m[\u001b[0m\u001b[0mBpt\u001b[0m\u001b[0;34m]\u001b[0m\u001b[0;34m,\u001b[0m \u001b[0mweights2\u001b[0m\u001b[0;34m=\u001b[0m\u001b[0mweights\u001b[0m\u001b[0;34m)\u001b[0m\u001b[0;34m)\u001b[0m\u001b[0;34m\u001b[0m\u001b[0;34m\u001b[0m\u001b[0m\n\u001b[0m",
            "\u001b[0;31mNameError\u001b[0m: name 'Bpt' is not defined"
          ]
        }
      ]
    },
    {
      "cell_type": "code",
      "metadata": {
        "colab": {
          "base_uri": "https://localhost:8080/",
          "height": 1000
        },
        "id": "Hkr1BpOvA7mH",
        "outputId": "62a7c76d-a202-4b81-808e-cdbe4c602bed"
      },
      "source": [
        "bins = 10\n",
        "for k in MC:\n",
        "    plt.title(k)\n",
        "    h = plt.hist(MC[k], bins=bins, label='MonteCarlo', alpha = 0.7, color='tab:blue', density=True)\n",
        "    train = plt.hist(RD[k], bins=h[1], label='RealData', alpha = 0.5, color='tab:orange', density=True)\n",
        "    plt.hist(MC[k], bins=h[1], label='MonteCarlo Re-Weighted', histtype='step',  color='blue',\n",
        "             linewidth = 2, weights=weights, density=True)\n",
        "\n",
        "    #train = plt.histogram(MC[k], bins=h[1]. alpha=0.5,)#, density=True)\n",
        "    #bins_ = (train[1][1:]+train[1][:-1])/2\n",
        "    #plt.errorbar(bins_, train[0],yerr=np.sqrt(train[0]),\n",
        "    #             fmt='s', marker='o' ,color='darkgreen',\n",
        "    #            barsabove=False, capsize=5, label='Train Signal')\n",
        "\n",
        "    plt.legend(frameon=True)\n",
        "\n",
        "    if k == 'XGB' or 'Bpt' or 'kpt' or 'PDL' or 'prob' or 'cosA' or 'signLxy':\n",
        "        plt.yscale('log')\n",
        "    plt.show()\n",
        "\n",
        "    #print(ks_test.ks_2samp_weighted(RD[k], MC[k], weights2=weightsRD))\n",
        "\n",
        "    print('K-S Test 1: ', ks_2samp_weighted(MC[k], RD[k], weights1=np.ones(len(MC), dtype=float), weights2=np.ones(len(RD), dtype=float)))\n",
        "    print('K-S Test: ', ks_2samp_weighted(MC[k], RD[k], weights1=weights, weights2=np.ones(len(RD), dtype=float)))"
      ],
      "execution_count": null,
      "outputs": [
        {
          "output_type": "display_data",
          "data": {
            "image/png": "[encoded data removed]",
            "text/plain": [
              "<Figure size 432x288 with 1 Axes>"
            ]
          },
          "metadata": {
            "tags": [],
            "needs_background": "light"
          }
        },
        {
          "output_type": "stream",
          "text": [
            "K-S Test 1:  0.5238125000000166\n",
            "K-S Test:  0.19969448203897988\n"
          ],
          "name": "stdout"
        },
        {
          "output_type": "display_data",
          "data": {
            "image/png": "[encoded data removed]",
            "text/plain": [
              "<Figure size 432x288 with 1 Axes>"
            ]
          },
          "metadata": {
            "tags": [],
            "needs_background": "light"
          }
        },
        {
          "output_type": "stream",
          "text": [
            "K-S Test 1:  0.5751875000000355\n",
            "K-S Test:  0.1454204719979425\n"
          ],
          "name": "stdout"
        },
        {
          "output_type": "display_data",
          "data": {
            "image/png": "[encoded data removed]",
            "text/plain": [
              "<Figure size 432x288 with 1 Axes>"
            ]
          },
          "metadata": {
            "tags": [],
            "needs_background": "light"
          }
        },
        {
          "output_type": "stream",
          "text": [
            "K-S Test 1:  0.47756250000000855\n",
            "K-S Test:  0.3513517427387702\n"
          ],
          "name": "stdout"
        },
        {
          "output_type": "display_data",
          "data": {
            "image/png": "[encoded data removed]",
            "text/plain": [
              "<Figure size 432x288 with 1 Axes>"
            ]
          },
          "metadata": {
            "tags": [],
            "needs_background": "light"
          }
        },
        {
          "output_type": "stream",
          "text": [
            "K-S Test 1:  0.624562500000057\n",
            "K-S Test:  0.2703781585058658\n"
          ],
          "name": "stdout"
        },
        {
          "output_type": "display_data",
          "data": {
            "image/png": "[encoded data removed]",
            "text/plain": [
              "<Figure size 432x288 with 1 Axes>"
            ]
          },
          "metadata": {
            "tags": [],
            "needs_background": "light"
          }
        },
        {
          "output_type": "stream",
          "text": [
            "K-S Test 1:  0.7371875000000822\n",
            "K-S Test:  0.1739045111749964\n"
          ],
          "name": "stdout"
        },
        {
          "output_type": "display_data",
          "data": {
            "image/png": "[encoded data removed]",
            "text/plain": [
              "<Figure size 432x288 with 1 Axes>"
            ]
          },
          "metadata": {
            "tags": [],
            "needs_background": "light"
          }
        },
        {
          "output_type": "stream",
          "text": [
            "K-S Test 1:  0.7966875000000885\n",
            "K-S Test:  0.3430260401481069\n"
          ],
          "name": "stdout"
        },
        {
          "output_type": "display_data",
          "data": {
            "image/png": "[encoded data removed]",
            "text/plain": [
              "<Figure size 432x288 with 1 Axes>"
            ]
          },
          "metadata": {
            "tags": [],
            "needs_background": "light"
          }
        },
        {
          "output_type": "stream",
          "text": [
            "K-S Test 1:  0.9478125000001171\n",
            "K-S Test:  0.5137499447466048\n"
          ],
          "name": "stdout"
        }
      ]
    },
    {
      "cell_type": "code",
      "metadata": {
        "id": "5LhtG63WA-Lt"
      },
      "source": [
        "import pickle\n",
        "pickle.dump(model, open('modelo_L5.pkl', 'wb'))"
      ],
      "execution_count": null,
      "outputs": []
    },
    {
      "cell_type": "code",
      "metadata": {
        "id": "1wLllzRKJqOu"
      },
      "source": [
        "]"
      ],
      "execution_count": null,
      "outputs": []
    }
  ]
}